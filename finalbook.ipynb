{
 "cells": [
  {
   "cell_type": "code",
   "execution_count": 40,
   "metadata": {},
   "outputs": [],
   "source": [
    "import pandas as pd\n",
    "from scipy.stats import pearsonr, spearmanr\n",
    "import matplotlib.pyplot as plt\n",
    "import numpy as np\n",
    "import seaborn as sns"
   ]
  },
  {
   "cell_type": "code",
   "execution_count": 41,
   "metadata": {},
   "outputs": [],
   "source": [
    "ties_df = pd.read_excel(\"TIESv4-1.xls\")\n",
    "cow_df = pd.read_csv(\"COW-country-codes.csv\")\n",
    "plty_df = pd.read_excel(\"POLITY5-PRC.xlsx\")"
   ]
  },
  {
   "cell_type": "code",
   "execution_count": 42,
   "metadata": {},
   "outputs": [],
   "source": [
    "autocratic_score = plty_df[plty_df['Indicator'] == 'Polity database: Combined Polity Score']\n",
    "\n",
    "# Identify columns that represent years (digit-only)\n",
    "year_columns = [col for col in autocratic_score.columns if col.isdigit()]\n",
    "\n",
    "# Melt the Polity data into long format\n",
    "melted_df_auto = autocratic_score.melt(\n",
    "    id_vars=['Economy Name'],\n",
    "    value_vars=year_columns,\n",
    "    var_name='Year',\n",
    "    value_name='Value'\n",
    ")\n",
    "\n",
    "# Convert Year and Value to numeric\n",
    "melted_df_auto['Year'] = pd.to_numeric(melted_df_auto['Year'], errors='coerce')\n",
    "melted_df_auto = melted_df_auto.dropna(subset=['Year'])\n",
    "melted_df_auto['Year'] = melted_df_auto['Year'].astype(int)\n",
    "\n",
    "melted_df_auto['Value'] = pd.to_numeric(melted_df_auto['Value'], errors='coerce')\n",
    "melted_df_auto = melted_df_auto.dropna(subset=['Value'])"
   ]
  },
  {
   "cell_type": "code",
   "execution_count": 43,
   "metadata": {},
   "outputs": [],
   "source": [
    "# Function to standardize country strings\n",
    "def safe_upper_strip(x):\n",
    "    if isinstance(x, str):\n",
    "        return x.upper().strip()\n",
    "    return np.nan\n",
    "\n",
    "# Standardize country names in melted_df_auto and cow_df\n",
    "melted_df_auto['Economy_Name_standardized'] = melted_df_auto['Economy Name'].apply(safe_upper_strip)\n",
    "cow_df['StateNme_standardized'] = cow_df['StateNme'].apply(safe_upper_strip)\n",
    "\n",
    "melted_df_auto = melted_df_auto.dropna(subset=['Economy_Name_standardized'])\n",
    "cow_df = cow_df.dropna(subset=['StateNme_standardized'])"
   ]
  },
  {
   "cell_type": "code",
   "execution_count": null,
   "metadata": {},
   "outputs": [],
   "source": [
    "# Map from country name to CCode\n",
    "country_mapping = dict(zip(cow_df['StateNme_standardized'], cow_df['CCode']))\n",
    "melted_df_auto['Country_Code'] = melted_df_auto['Economy_Name_standardized'].map(country_mapping)\n",
    "melted_df_auto = melted_df_auto.dropna(subset=['Country_Code'])\n",
    "melted_df_auto['Country_Code'] = melted_df_auto['Country_Code'].astype(int)\n",
    "\n",
    "# Convert targetstate in ties_df to numeric Country_Code\n",
    "ties_df['Country_Code'] = pd.to_numeric(ties_df['targetstate'], errors='coerce')\n",
    "ties_df = ties_df.dropna(subset=['Country_Code'])\n",
    "ties_df['Country_Code'] = ties_df['Country_Code'].astype(int)\n",
    "\n",
    "# Convert startyear in ties_df to numeric\n",
    "ties_df['startyear'] = pd.to_numeric(ties_df['startyear'], errors='coerce')\n",
    "ties_df = ties_df.dropna(subset=['startyear'])\n",
    "ties_df['startyear'] = ties_df['startyear'].astype(int)\n",
    "\n",
    "# Pivot polity data to get a wide format with years as columns\n",
    "# Index by Country_Code for easy merging\n",
    "polity_wide = melted_df_auto.pivot(index='Country_Code', columns='Year', values='Value')\n",
    "polity_wide = polity_wide.reindex(sorted(polity_wide.columns), axis=1)"
   ]
  }
 ],
 "metadata": {
  "kernelspec": {
   "display_name": "venv",
   "language": "python",
   "name": "python3"
  },
  "language_info": {
   "codemirror_mode": {
    "name": "ipython",
    "version": 3
   },
   "file_extension": ".py",
   "mimetype": "text/x-python",
   "name": "python",
   "nbconvert_exporter": "python",
   "pygments_lexer": "ipython3",
   "version": "3.12.3"
  }
 },
 "nbformat": 4,
 "nbformat_minor": 2
}
